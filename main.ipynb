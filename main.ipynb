{
 "cells": [
  {
   "cell_type": "markdown",
   "id": "7a77f3d8",
   "metadata": {},
   "source": [
    "## Importar librerías"
   ]
  },
  {
   "cell_type": "code",
   "execution_count": null,
   "id": "892f9a6a",
   "metadata": {},
   "outputs": [],
   "source": [
    "import os\n",
    "import io\n",
    "import pandas as pd\n",
    "import matplotlib.pyplot as plt\n",
    "import smtplib\n",
    "from email.mime.multipart import MIMEMultipart\n",
    "from email.mime.text import MIMEText\n",
    "from email.mime.image import MIMEImage\n",
    "import configparser"
   ]
  },
  {
   "cell_type": "markdown",
   "id": "b15abc1a",
   "metadata": {},
   "source": [
    "## Configuración de correo"
   ]
  },
  {
   "cell_type": "code",
   "execution_count": null,
   "id": "897e2618",
   "metadata": {},
   "outputs": [],
   "source": [
    "config = configparser.ConfigParser()\n",
    "config.read('config.ini')\n",
    "\n",
    "SMTP_SERVER = config['EMAIL']['SMTP_SERVER']\n",
    "SMTP_PORT = config['EMAIL']['SMTP_PORT']\n",
    "EMAIL_SENDER = config['EMAIL']['EMAIL_SENDER']\n",
    "EMAIL_PASSWORD = config['EMAIL']['EMAIL_PASSWORD']\n",
    "EMAIL_RECEIVER = config['EMAIL']['EMAIL_RECEIVER']"
   ]
  },
  {
   "cell_type": "markdown",
   "id": "ab9b83e7",
   "metadata": {},
   "source": [
    "## Funciones de filtrado"
   ]
  },
  {
   "cell_type": "code",
   "execution_count": null,
   "id": "fb6b3db5",
   "metadata": {},
   "outputs": [],
   "source": [
    "def contiene_grado_y_estudiante(text):\n",
    "    if not isinstance(text, str):\n",
    "        return False\n",
    "    texto_lower = text.lower()\n",
    "    return 'grado' in texto_lower and 'estudiante' in texto_lower\n",
    "\n",
    "def fila_a_eliminar(row):\n",
    "    textos = row.astype(str)\n",
    "    contiene_grado = textos.str.contains('grado', case=False, na=False).any()\n",
    "    contiene_estudiante = textos.str.contains('estudiante', case=False, na=False).any()\n",
    "    return contiene_grado and contiene_estudiante\n",
    "\n",
    "def cargar_y_filtrar_excel(carpeta):\n",
    "    dataframes = []\n",
    "    for archivo in os.listdir(carpeta):\n",
    "        if archivo.endswith('.xlsx'):\n",
    "            ruta_archivo = os.path.join(carpeta, archivo)\n",
    "            df = pd.read_excel(ruta_archivo)\n",
    "            print(f\"Nombres de columnas en archivo {archivo}: {df.columns.tolist()}\")\n",
    "            df_filtrado = df[~df.apply(fila_a_eliminar, axis=1)]\n",
    "            df_filtrado = df_filtrado.dropna(how='all')\n",
    "            df_filtrado = df_filtrado.dropna(axis=1, how='all')\n",
    "            dataframes.append(df_filtrado)\n",
    "    if dataframes:\n",
    "        df_combinado = pd.concat(dataframes, ignore_index=True)\n",
    "    else:\n",
    "        df_combinado = pd.DataFrame()\n",
    "    return df_combinado"
   ]
  },
  {
   "cell_type": "markdown",
   "id": "9a7f8f2f",
   "metadata": {},
   "source": [
    "## Funciones de conteo"
   ]
  },
  {
   "cell_type": "code",
   "execution_count": null,
   "id": "eaff8f4c",
   "metadata": {},
   "outputs": [],
   "source": [
    "def contar_ausencias_por_dia_y_grado(df):\n",
    "    columnas_dias = [col for col in df.columns if str(col).strip().isdigit()]\n",
    "    if 'GRADO' not in df.columns:\n",
    "        raise KeyError('La columna \"GRADO\" no se encuentra en el DataFrame.')\n",
    "    df_ausencias = df.groupby('GRADO')[columnas_dias].apply(lambda x: x.notna().sum())\n",
    "    df_ausencias = df_ausencias.reset_index()\n",
    "    return df_ausencias\n",
    "\n",
    "def contar_asistencias_por_dia_y_grado(df):\n",
    "    columnas_dias = [col for col in df.columns if str(col).strip().isdigit()]\n",
    "    if 'GRADO' not in df.columns:\n",
    "        raise KeyError('La columna \"GRADO\" no se encuentra en el DataFrame.')\n",
    "    df_ausencias = df.groupby('GRADO')[columnas_dias].apply(lambda x: x.notna().sum())\n",
    "    df_asistencias = df.groupby('GRADO')[columnas_dias].apply(lambda x: x.isna().sum())\n",
    "    df_resultado = pd.concat([\n",
    "        df_ausencias.rename(columns=lambda x: f'Ausencias_{x}'),\n",
    "        df_asistencias.rename(columns=lambda x: f'Asistencias_{x}')\n",
    "    ], axis=1)\n",
    "    df_resultado = df_resultado.reset_index()\n",
    "    return df_resultado"
   ]
  },
  {
   "cell_type": "markdown",
   "id": "8183d6e5",
   "metadata": {},
   "source": [
    "## Funciones de gráficos"
   ]
  },
  {
   "cell_type": "code",
   "execution_count": null,
   "id": "9902061d",
   "metadata": {},
   "outputs": [],
   "source": [
    "def etiqueta_con_cantidad(pct, allvals):\n",
    "    absolute = int(round(pct / 100. * sum(allvals)))\n",
    "    return f\"{absolute} ({pct:.1f}%)\""
   ]
  },
  {
   "cell_type": "markdown",
   "id": "0dcf025a",
   "metadata": {},
   "source": [
    "## Función para enviar correo"
   ]
  },
  {
   "cell_type": "code",
   "execution_count": null,
   "id": "8d559c09",
   "metadata": {},
   "outputs": [],
   "source": [
    "def enviar_email_con_graficos(asunto, cuerpo_texto, figuras, \n",
    "                              server=SMTP_SERVER, port=SMTP_PORT,\n",
    "                              sender=EMAIL_SENDER, password=EMAIL_PASSWORD, receiver=EMAIL_RECEIVER):\n",
    "    \"\"\"\n",
    "    Envía un correo con gráficos embebidos.\n",
    "    - figuras: lista de tuplas (matplotlib.figure.Figure, id_cid_str)\n",
    "    \"\"\"\n",
    "    msg = MIMEMultipart('related')\n",
    "    msg['Subject'] = asunto\n",
    "    msg['From'] = sender\n",
    "    msg['To'] = receiver\n",
    "\n",
    "    # Crear cuerpo HTML con referencias a imágenes cid\n",
    "    html_body = f\"<html><body><p>{cuerpo_texto}</p>\"\n",
    "    for _, cid in figuras:\n",
    "        html_body += f'<img src=\"cid:{cid}\" style=\"max-width:100%; height:auto;\"><br>'\n",
    "    html_body += \"</body></html>\"\n",
    "\n",
    "    msg_alternative = MIMEMultipart('alternative')\n",
    "    msg.attach(msg_alternative)\n",
    "\n",
    "    msg_text = MIMEText(html_body, 'html')\n",
    "    msg_alternative.attach(msg_text)\n",
    "\n",
    "    # Adjuntar imágenes de cada figura como MIMEImage\n",
    "    for fig, cid in figuras:\n",
    "        buf = io.BytesIO()\n",
    "        fig.savefig(buf, format='png', bbox_inches='tight')\n",
    "        buf.seek(0)\n",
    "        img = MIMEImage(buf.read())\n",
    "        img.add_header('Content-ID', f'<{cid}>')\n",
    "        img.add_header('Content-Disposition', 'inline', filename=f'{cid}.png')\n",
    "        msg.attach(img)\n",
    "        buf.close()\n",
    "\n",
    "    # Enviar el correo\n",
    "    try:\n",
    "        with smtplib.SMTP(server, port) as smtp:\n",
    "            smtp.starttls()\n",
    "            smtp.login(sender, password)\n",
    "            smtp.sendmail(sender, receiver, msg.as_string())\n",
    "        print('Correo enviado correctamente.')\n",
    "    except Exception as e:\n",
    "        print('Error enviando el correo:', str(e))"
   ]
  },
  {
   "cell_type": "markdown",
   "id": "9c5256d6",
   "metadata": {},
   "source": [
    "## Función principal"
   ]
  },
  {
   "cell_type": "code",
   "execution_count": null,
   "id": "78e1090c",
   "metadata": {},
   "outputs": [],
   "source": [
    "def main():\n",
    "    carpeta = 'files'\n",
    "    df_resultado = cargar_y_filtrar_excel(carpeta)\n",
    "    print(f'Todos los archivos Excel en \"{carpeta}\" han sido combinados, filtrados y ordenados.')\n",
    "\n",
    "    if df_resultado.empty:\n",
    "        print(\"No hay datos para procesar.\")\n",
    "        return\n",
    "    \n",
    "    df_resultado['GRADO'] = df_resultado['GRADO'].astype(str).str.replace(' ', '')\n",
    "    df_resultado_final = contar_asistencias_por_dia_y_grado(df_resultado)\n",
    "    print(\"Conteo de ausencias y asistencias por día y grado:\")\n",
    "    print(df_resultado_final.head(30))\n",
    "\n",
    "    ultima_columna_ausencias = df_resultado_final.filter(like='Ausencias_').columns[-1]\n",
    "    ultima_columna_asistencias = df_resultado_final.filter(like='Asistencias_').columns[-1]\n",
    "\n",
    "    total_ausencias_ultimo_dia = df_resultado_final[ultima_columna_ausencias].sum()\n",
    "    total_asistencias_ultimo_dia = df_resultado_final[ultima_columna_asistencias].sum()\n",
    "\n",
    "    print(f'Total de Ausencias del Último Día: {total_ausencias_ultimo_dia}')\n",
    "    print(f'Total de Asistencias del Último Día: {total_asistencias_ultimo_dia}')\n",
    "\n",
    "    # Gráfico circular\n",
    "    cantidades = [total_asistencias_ultimo_dia, total_ausencias_ultimo_dia]\n",
    "    categorias = ['Asistencias', 'Ausencias']\n",
    "    fig_circular, ax_circular = plt.subplots(figsize=(8, 6))\n",
    "    ax_circular.pie(cantidades, labels=categorias, autopct=lambda pct: etiqueta_con_cantidad(pct, cantidades),\n",
    "                    startangle=90, colors=['#4CAF50', '#F44336'])\n",
    "    ax_circular.set_title('Proporción y Cantidad de Asistencias y Ausencias del Último Día', fontsize=14, fontweight='bold')\n",
    "    ax_circular.axis('equal')\n",
    "\n",
    "    # Totalizar asistencias y ausencias por grado\n",
    "    total_ausencias = df_resultado_final.filter(like='Ausencias_').sum(axis=1)\n",
    "    total_asistencias = df_resultado_final.filter(like='Asistencias_').sum(axis=1)\n",
    "    df_resultado_final['Total_Ausencias'] = total_ausencias\n",
    "    df_resultado_final['Total_Asistencias'] = total_asistencias\n",
    "    df_ausencias = df_resultado_final[['GRADO', 'Total_Ausencias', 'Total_Asistencias']]\n",
    "    print(\"Total de ausencias y asistencias por grado:\")\n",
    "    print(df_ausencias.head(30))\n",
    "\n",
    "    # Gráfico barras\n",
    "    total_ausencias_por_grado = df_resultado_final.groupby('GRADO')['Total_Ausencias'].sum()\n",
    "    fig_barras, ax_barras = plt.subplots(figsize=(10, 6))\n",
    "    total_ausencias_por_grado.plot(kind='bar', color='skyblue', ax=ax_barras)\n",
    "    ax_barras.set_xlabel('Grado', fontsize=12)\n",
    "    ax_barras.set_ylabel('Total de Ausencias', fontsize=12)\n",
    "    ax_barras.set_title('Total de Ausencias por Grado en el Mes', fontsize=14, fontweight='bold')\n",
    "    ax_barras.tick_params(axis='x', rotation=45)\n",
    "    ax_barras.grid(axis='y')\n",
    "    plt.tight_layout()\n",
    "\n",
    "    plt.close(fig_circular)\n",
    "    plt.close(fig_barras)\n",
    "\n",
    "    # Enviar email con gráficos\n",
    "    asunto_email = 'Informe Gráficos de Asistencias y Ausencias'\n",
    "    cuerpo_email = 'A continuación se incluyen los gráficos de asistencias y ausencias generados automáticamente.'\n",
    "    figuras = [\n",
    "        (fig_circular, 'grafico_circular'),\n",
    "        (fig_barras, 'grafico_barras')\n",
    "    ]\n",
    "    enviar_email_con_graficos(asunto_email, cuerpo_email, figuras)\n",
    "\n",
    "if __name__ == '__main__':\n",
    "    main()\n"
   ]
  }
 ],
 "metadata": {
  "kernelspec": {
   "display_name": "Python 3",
   "language": "python",
   "name": "python3"
  },
  "language_info": {
   "codemirror_mode": {
    "name": "ipython",
    "version": 3
   },
   "file_extension": ".py",
   "mimetype": "text/x-python",
   "name": "python",
   "nbconvert_exporter": "python",
   "pygments_lexer": "ipython3",
   "version": "3.12.8"
  }
 },
 "nbformat": 4,
 "nbformat_minor": 5
}
